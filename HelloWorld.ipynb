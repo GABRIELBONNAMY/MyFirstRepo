{
 "cells": [
  {
   "cell_type": "code",
   "execution_count": 1,
   "id": "76a255fe-b91a-4522-a14e-f88056ee98b8",
   "metadata": {},
   "outputs": [
    {
     "name": "stdout",
     "output_type": "stream",
     "text": [
      "Hello, world!\n"
     ]
    }
   ],
   "source": [
    "print(\"Hello, world!\")"
   ]
  },
  {
   "cell_type": "markdown",
   "id": "4cc02292-39c2-4565-9ece-b92598d865d5",
   "metadata": {
    "tags": []
   },
   "source": [
    "# My First Markdown Heading\n",
    "## My Second Markdown Heading\n",
    "This is some **bold** text.\n",
    "1. First item\n",
    "2. Second item\n",
    "3. Third item"
   ]
  },
  {
   "cell_type": "code",
   "execution_count": 2,
   "id": "ba4f8390-a6a6-4546-b848-3ddb27511c8b",
   "metadata": {},
   "outputs": [],
   "source": [
    "my_var = 5"
   ]
  },
  {
   "cell_type": "code",
   "execution_count": 3,
   "id": "17f8dae9-7001-4f14-8a5e-d4e090a4ac47",
   "metadata": {},
   "outputs": [
    {
     "name": "stdout",
     "output_type": "stream",
     "text": [
      "10\n"
     ]
    }
   ],
   "source": [
    "result = my_var * 2\n",
    "print(result)"
   ]
  }
 ],
 "metadata": {
  "kernelspec": {
   "display_name": "Python 3 (ipykernel)",
   "language": "python",
   "name": "python3"
  },
  "language_info": {
   "codemirror_mode": {
    "name": "ipython",
    "version": 3
   },
   "file_extension": ".py",
   "mimetype": "text/x-python",
   "name": "python",
   "nbconvert_exporter": "python",
   "pygments_lexer": "ipython3",
   "version": "3.10.9"
  }
 },
 "nbformat": 4,
 "nbformat_minor": 5
}
